{
 "cells": [
  {
   "cell_type": "code",
   "execution_count": 1,
   "id": "895373f2",
   "metadata": {},
   "outputs": [],
   "source": [
    "import pandas as pd"
   ]
  },
  {
   "cell_type": "code",
   "execution_count": 12,
   "id": "f37ba108",
   "metadata": {},
   "outputs": [],
   "source": [
    "ERM = '232863'\n",
    "CR = '12567513'\n",
    "client_name = 'OMBUDSMAN WESTERN AUSTRALIA'"
   ]
  },
  {
   "cell_type": "code",
   "execution_count": 28,
   "id": "23de09a9",
   "metadata": {},
   "outputs": [
    {
     "name": "stdout",
     "output_type": "stream",
     "text": [
      "GDM | Client Change Confirmation | OMBUDSMAN WESTERN AUSTRALIA ERM: 232863, CR: 12567513\n",
      "\n",
      "Recently you submitted a request to make changes for the client OMBUDSMAN WESTERN AUSTRALIA.\n",
      "Request ID: 232863\n",
      "CR number: 12567513\n"
     ]
    }
   ],
   "source": [
    "# Changes request\n",
    "print('GDM | Client Change Confirmation | ' + client_name + ' '\n",
    "      + 'ERM: ' + ERM +\n",
    "      ', ' + 'CR: ' + CR + '\\n')\n",
    "\n",
    "print('Recently you submitted a request to make changes for the client ' + client_name + '.'\n",
    "      '\\n' + 'Request ID: ' + ERM +\n",
    "      '\\n' + 'CR number: ' + CR)"
   ]
  },
  {
   "cell_type": "code",
   "execution_count": null,
   "id": "5f1ab165",
   "metadata": {},
   "outputs": [
    {
     "name": "stdout",
     "output_type": "stream",
     "text": [
      "Recently you submitted a request to create a client UNIQLO (THAILAND) COMPANY LIMITED.\n",
      "Request ID: 232295\n",
      "CR number: 12565752\n"
     ]
    }
   ],
   "source": [
    "# Creation request\n",
    "print('Recently you submitted a request to create a client ' + client_name + '.'\n",
    "      '\\n' + 'Request ID: ' + ERM +\n",
    "      '\\n' + 'CR number: ' + CR)"
   ]
  },
  {
   "cell_type": "code",
   "execution_count": null,
   "id": "0edf5294",
   "metadata": {},
   "outputs": [],
   "source": []
  }
 ],
 "metadata": {
  "kernelspec": {
   "display_name": "base",
   "language": "python",
   "name": "python3"
  },
  "language_info": {
   "codemirror_mode": {
    "name": "ipython",
    "version": 3
   },
   "file_extension": ".py",
   "mimetype": "text/x-python",
   "name": "python",
   "nbconvert_exporter": "python",
   "pygments_lexer": "ipython3",
   "version": "3.12.4"
  }
 },
 "nbformat": 4,
 "nbformat_minor": 5
}
