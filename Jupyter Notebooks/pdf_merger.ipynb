{
 "cells": [
  {
   "cell_type": "code",
   "execution_count": 1,
   "id": "5fc4d2e3",
   "metadata": {},
   "outputs": [
    {
     "name": "stdout",
     "output_type": "stream",
     "text": [
      "Defaulting to user installation because normal site-packages is not writeableNote: you may need to restart the kernel to use updated packages.\n",
      "\n",
      "Requirement already satisfied: PyPDF2 in c:\\users\\mozulkifli\\appdata\\roaming\\python\\python312\\site-packages (3.0.1)\n"
     ]
    }
   ],
   "source": [
    "pip install PyPDF2"
   ]
  },
  {
   "cell_type": "code",
   "execution_count": null,
   "id": "e6178979",
   "metadata": {},
   "outputs": [
    {
     "name": "stdout",
     "output_type": "stream",
     "text": [
      "Adding: C:/Users/mozulkifli/Downloads/mydocs/MASTER/WQD7007_BIG DATA MANAGEMENT/All pdf/Merge/00 Introduction NEW.pdf\n",
      "Adding: C:/Users/mozulkifli/Downloads/mydocs/MASTER/WQD7007_BIG DATA MANAGEMENT/All pdf/Merge/01 Big Data Intro.pdf\n",
      "Adding: C:/Users/mozulkifli/Downloads/mydocs/MASTER/WQD7007_BIG DATA MANAGEMENT/All pdf/Merge/02 Big Data Pipeline.pdf\n",
      "Adding: C:/Users/mozulkifli/Downloads/mydocs/MASTER/WQD7007_BIG DATA MANAGEMENT/All pdf/Merge/03 Big Data Concepts 1.pdf\n",
      "Adding: C:/Users/mozulkifli/Downloads/mydocs/MASTER/WQD7007_BIG DATA MANAGEMENT/All pdf/Merge/04 Big Data Concepts 2.pdf\n",
      "Adding: C:/Users/mozulkifli/Downloads/mydocs/MASTER/WQD7007_BIG DATA MANAGEMENT/All pdf/Merge/05 Traditional Database.pdf\n",
      "Adding: C:/Users/mozulkifli/Downloads/mydocs/MASTER/WQD7007_BIG DATA MANAGEMENT/All pdf/Merge/06 Distributed Computing.pdf\n",
      "Adding: C:/Users/mozulkifli/Downloads/mydocs/MASTER/WQD7007_BIG DATA MANAGEMENT/All pdf/Merge/07 HBase.pdf\n",
      "Adding: C:/Users/mozulkifli/Downloads/mydocs/MASTER/WQD7007_BIG DATA MANAGEMENT/All pdf/Merge/08 MongoDB.pdf\n",
      "Adding: C:/Users/mozulkifli/Downloads/mydocs/MASTER/WQD7007_BIG DATA MANAGEMENT/All pdf/Merge/09 Hive.pdf\n",
      "Adding: C:/Users/mozulkifli/Downloads/mydocs/MASTER/WQD7007_BIG DATA MANAGEMENT/All pdf/Merge/10 Pig.pdf\n",
      "Adding: C:/Users/mozulkifli/Downloads/mydocs/MASTER/WQD7007_BIG DATA MANAGEMENT/All pdf/Merge/11 Spark.pdf\n",
      "Adding: C:/Users/mozulkifli/Downloads/mydocs/MASTER/WQD7007_BIG DATA MANAGEMENT/All pdf/Merge/12 Data provenance and data trustworthiness.pdf\n",
      "Merged PDF saved as: C:/Users/mozulkifli/Downloads/mydocs/MASTER/WQD7007_BIG DATA MANAGEMENT/All pdf/Merge/merged_output.pdf\n"
     ]
    },
    {
     "ename": "",
     "evalue": "",
     "output_type": "error",
     "traceback": [
      "\u001b[1;31mThe Kernel crashed while executing code in the current cell or a previous cell. \n",
      "\u001b[1;31mPlease review the code in the cell(s) to identify a possible cause of the failure. \n",
      "\u001b[1;31mClick <a href='https://aka.ms/vscodeJupyterKernelCrash'>here</a> for more info. \n",
      "\u001b[1;31mView Jupyter <a href='command:jupyter.viewOutput'>log</a> for further details."
     ]
    }
   ],
   "source": [
    "import os\n",
    "from PyPDF2 import PdfMerger\n",
    "\n",
    "path = 'C:/Users/mozulkifli/Downloads/mydocs/MASTER/WQD7007_BIG DATA MANAGEMENT/All pdf/Merge/'\n",
    "\n",
    "def merge_pdfs(pdf_list, output_path):\n",
    "    merger = PdfMerger()\n",
    "    \n",
    "    for pdf in pdf_list:\n",
    "        if os.path.exists(pdf):\n",
    "            print(f\"Adding: {pdf}\")\n",
    "            merger.append(pdf)\n",
    "        else:\n",
    "            print(f\"File not found: {pdf}\")\n",
    "    \n",
    "    merger.write(output_path)\n",
    "    merger.close()\n",
    "    print(f\"Merged PDF saved as: {output_path}\")\n",
    "\n",
    "if __name__ == \"__main__\":\n",
    "    # List your PDF file names here in the order you want them merged\n",
    "    pdf_files = [\n",
    "        path + \"00 Introduction NEW.pdf\",\n",
    "        path + \"01 Big Data Intro.pdf\",\n",
    "        path + \"02 Big Data Pipeline.pdf\",\n",
    "        path + \"03 Big Data Concepts 1.pdf\",\n",
    "        path + \"04 Big Data Concepts 2.pdf\",\n",
    "        path + \"05 Traditional Database.pdf\",\n",
    "        path + \"06 Distributed Computing.pdf\",\n",
    "        path + \"07 HBase.pdf\",\n",
    "        path + \"08 MongoDB.pdf\",\n",
    "        path + \"09 Hive.pdf\",\n",
    "        path + \"10 Pig.pdf\",\n",
    "        path + \"11 Spark.pdf\",\n",
    "        path + \"12 Data provenance and data trustworthiness.pdf\",\n",
    "\n",
    "    ]\n",
    "    \n",
    "    output_file = path + \"merged_output.pdf\"\n",
    "    merge_pdfs(pdf_files, output_file)\n"
   ]
  },
  {
   "cell_type": "code",
   "execution_count": null,
   "id": "d7cbda4d",
   "metadata": {},
   "outputs": [],
   "source": []
  },
  {
   "cell_type": "code",
   "execution_count": null,
   "id": "fccc95d8",
   "metadata": {},
   "outputs": [],
   "source": []
  },
  {
   "cell_type": "code",
   "execution_count": null,
   "id": "5d807ece",
   "metadata": {},
   "outputs": [],
   "source": []
  }
 ],
 "metadata": {
  "kernelspec": {
   "display_name": "base",
   "language": "python",
   "name": "python3"
  },
  "language_info": {
   "codemirror_mode": {
    "name": "ipython",
    "version": 3
   },
   "file_extension": ".py",
   "mimetype": "text/x-python",
   "name": "python",
   "nbconvert_exporter": "python",
   "pygments_lexer": "ipython3",
   "version": "3.12.4"
  }
 },
 "nbformat": 4,
 "nbformat_minor": 5
}
