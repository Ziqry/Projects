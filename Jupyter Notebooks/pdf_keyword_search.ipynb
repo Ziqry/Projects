{
 "cells": [
  {
   "cell_type": "code",
   "execution_count": 1,
   "metadata": {},
   "outputs": [
    {
     "name": "stdout",
     "output_type": "stream",
     "text": [
      "Defaulting to user installation because normal site-packages is not writeable\n",
      "Collecting PyPDF2\n",
      "  Downloading pypdf2-3.0.1-py3-none-any.whl.metadata (6.8 kB)\n",
      "Downloading pypdf2-3.0.1-py3-none-any.whl (232 kB)\n",
      "   ---------------------------------------- 0.0/232.6 kB ? eta -:--:--\n",
      "   --- ----------------------------------- 20.5/232.6 kB 330.3 kB/s eta 0:00:01\n",
      "   --------------- ------------------------ 92.2/232.6 kB 1.3 MB/s eta 0:00:01\n",
      "   --------------------- ------------------ 122.9/232.6 kB 1.0 MB/s eta 0:00:01\n",
      "   ------------------------- ------------ 153.6/232.6 kB 919.0 kB/s eta 0:00:01\n",
      "   --------------------------------- ---- 204.8/232.6 kB 958.4 kB/s eta 0:00:01\n",
      "   -------------------------------------- 232.6/232.6 kB 835.8 kB/s eta 0:00:00\n",
      "Installing collected packages: PyPDF2\n",
      "Successfully installed PyPDF2-3.0.1\n",
      "Note: you may need to restart the kernel to use updated packages.\n"
     ]
    }
   ],
   "source": [
    "pip install PyPDF2"
   ]
  },
  {
   "cell_type": "code",
   "execution_count": 1,
   "metadata": {},
   "outputs": [],
   "source": [
    "import os\n",
    "import re\n",
    "from PyPDF2 import PdfReader\n",
    "\n",
    "def search_keywords_in_pdfs(directory, keywords):\n",
    "    \"\"\"\n",
    "    Search for keywords in all PDF files within a given directory.\n",
    "\n",
    "    Args:\n",
    "        directory (str): Path to the directory containing PDF files.\n",
    "        keywords (list): List of keywords to search for.\n",
    "\n",
    "    Returns:\n",
    "        dict: A dictionary with file names as keys and lists of matching keywords as values.\n",
    "    \"\"\"\n",
    "    results = {}\n",
    "    \n",
    "    for file_name in os.listdir(directory):\n",
    "        if file_name.endswith(\".pdf\"):\n",
    "            file_path = os.path.join(directory, file_name)\n",
    "            try:\n",
    "                reader = PdfReader(file_path)\n",
    "                full_text = \"\"\n",
    "                for page in reader.pages:\n",
    "                    full_text += page.extract_text()\n",
    "\n",
    "                matches = {keyword: re.findall(fr'\\b{keyword}\\b', full_text, re.IGNORECASE) for keyword in keywords}\n",
    "                found_keywords = {k: v for k, v in matches.items() if v}\n",
    "                \n",
    "                if found_keywords:\n",
    "                    results[file_name] = found_keywords\n",
    "\n",
    "            except Exception as e:\n",
    "                print(f\"Error reading {file_name}: {e}\")\n",
    "    \n",
    "    return results"
   ]
  },
  {
   "cell_type": "code",
   "execution_count": 19,
   "metadata": {},
   "outputs": [
    {
     "name": "stdout",
     "output_type": "stream",
     "text": [
      "File: 05sonali-Debashish-Tripti_.pdf\n",
      "  Keyword: normalization, Occurrences: 1\n",
      "File: 17_2_03.pdf\n",
      "  Keyword: normalization, Occurrences: 3\n",
      "File: bankloan.pdf\n",
      "  Keyword: normalization, Occurrences: 3\n",
      "File: eai.23-11-2023.2343174.pdf\n",
      "  Keyword: normalization, Occurrences: 1\n",
      "File: Innovation_in_Finance_Machine_Learning_Algorithms_for_Predicting_Loan_Eligibility.pdf\n",
      "  Keyword: normalization, Occurrences: 2\n",
      "File: make-06-00004.pdf\n",
      "  Keyword: normalization, Occurrences: 1\n"
     ]
    }
   ],
   "source": [
    "# Usage example\n",
    "directory_path = \"C:/Users/mozulkifli/Downloads/mydocs/MASTER/WOX7001_RESEARCH METHODOLOGY/Journal_Inpairment\"\n",
    "keywords_to_search = [\"normalization\"]\n",
    "\n",
    "# Perform search\n",
    "result = search_keywords_in_pdfs(directory_path, keywords_to_search)\n",
    "\n",
    "# Print results\n",
    "for file, matches in result.items():\n",
    "    print(f\"File: {file}\")\n",
    "    for keyword, occurrences in matches.items():\n",
    "        print(f\"  Keyword: {keyword}, Occurrences: {len(occurrences)}\")"
   ]
  },
  {
   "cell_type": "code",
   "execution_count": null,
   "metadata": {},
   "outputs": [],
   "source": []
  },
  {
   "cell_type": "code",
   "execution_count": null,
   "metadata": {},
   "outputs": [],
   "source": []
  },
  {
   "cell_type": "code",
   "execution_count": null,
   "metadata": {},
   "outputs": [],
   "source": []
  },
  {
   "cell_type": "code",
   "execution_count": null,
   "metadata": {},
   "outputs": [],
   "source": []
  }
 ],
 "metadata": {
  "kernelspec": {
   "display_name": "base",
   "language": "python",
   "name": "python3"
  },
  "language_info": {
   "codemirror_mode": {
    "name": "ipython",
    "version": 3
   },
   "file_extension": ".py",
   "mimetype": "text/x-python",
   "name": "python",
   "nbconvert_exporter": "python",
   "pygments_lexer": "ipython3",
   "version": "3.12.4"
  }
 },
 "nbformat": 4,
 "nbformat_minor": 2
}
