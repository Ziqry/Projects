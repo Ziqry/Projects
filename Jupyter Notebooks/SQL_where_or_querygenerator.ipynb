{
 "cells": [
  {
   "cell_type": "code",
   "execution_count": null,
   "id": "61be592d",
   "metadata": {},
   "outputs": [],
   "source": [
    "import pandas as pd\n",
    "\n",
    "# Load Excel file\n",
    "path = 'C:/Users/mozulkifli/Downloads/'\n",
    "excel_file = 'jp_tax_num.xlsx'  # Replace with your filename\n",
    "\n",
    "\n",
    "# Read the Excel file\n",
    "df = pd.read_excel(path + excel_file)\n",
    "\n",
    "\n",
    "\n"
   ]
  },
  {
   "cell_type": "code",
   "execution_count": 6,
   "id": "bda9c47a",
   "metadata": {},
   "outputs": [],
   "source": [
    "# Extract the ID list (dropna in case of blank cells)\n",
    "id_list = df['CUSTOMER_NUMBER'].dropna().astype(str).tolist()"
   ]
  },
  {
   "cell_type": "code",
   "execution_count": 2,
   "id": "bcc73d66",
   "metadata": {},
   "outputs": [
    {
     "data": {
      "text/html": [
       "<div>\n",
       "<style scoped>\n",
       "    .dataframe tbody tr th:only-of-type {\n",
       "        vertical-align: middle;\n",
       "    }\n",
       "\n",
       "    .dataframe tbody tr th {\n",
       "        vertical-align: top;\n",
       "    }\n",
       "\n",
       "    .dataframe thead th {\n",
       "        text-align: right;\n",
       "    }\n",
       "</style>\n",
       "<table border=\"1\" class=\"dataframe\">\n",
       "  <thead>\n",
       "    <tr style=\"text-align: right;\">\n",
       "      <th></th>\n",
       "      <th>CUSTOMER_NUMBER</th>\n",
       "      <th>K_NAME</th>\n",
       "      <th>(As is)\\nTAX_TYPE</th>\n",
       "      <th>(As is)\\nTAX_NUM</th>\n",
       "      <th>Allocation</th>\n",
       "    </tr>\n",
       "  </thead>\n",
       "  <tbody>\n",
       "    <tr>\n",
       "      <th>0</th>\n",
       "      <td>1558780</td>\n",
       "      <td>ＮＯＢＵＮＡＧＡ　Ｒａｉｓｅ　Ｆｕｎｄ投資事業有限責任組合</td>\n",
       "      <td>JP3</td>\n",
       "      <td>4200001038486</td>\n",
       "      <td>Ziqry</td>\n",
       "    </tr>\n",
       "    <tr>\n",
       "      <th>1</th>\n",
       "      <td>1551453</td>\n",
       "      <td>日野市立病院</td>\n",
       "      <td>JP3</td>\n",
       "      <td>1000020132128</td>\n",
       "      <td>Ziqry</td>\n",
       "    </tr>\n",
       "    <tr>\n",
       "      <th>2</th>\n",
       "      <td>1557808</td>\n",
       "      <td>米ドル建て日系社債投資ファンド２０２０－１０（適格機関投資家専用）</td>\n",
       "      <td>JP3</td>\n",
       "      <td>9010401137051</td>\n",
       "      <td>Ziqry</td>\n",
       "    </tr>\n",
       "    <tr>\n",
       "      <th>3</th>\n",
       "      <td>1559356</td>\n",
       "      <td>ＵＳリートＥＴＦファンド２０２１－０９（適格機関投資家専用）</td>\n",
       "      <td>JP3</td>\n",
       "      <td>9010401137051</td>\n",
       "      <td>Ziqry</td>\n",
       "    </tr>\n",
       "    <tr>\n",
       "      <th>4</th>\n",
       "      <td>1560092</td>\n",
       "      <td>ＳＭＴ　ＭＩＲＡＩｎｄｅｘ　総合</td>\n",
       "      <td>JP3</td>\n",
       "      <td>8010001114914</td>\n",
       "      <td>Ziqry</td>\n",
       "    </tr>\n",
       "  </tbody>\n",
       "</table>\n",
       "</div>"
      ],
      "text/plain": [
       "   CUSTOMER_NUMBER                              K_NAME (As is)\\nTAX_TYPE  \\\n",
       "0          1558780      ＮＯＢＵＮＡＧＡ　Ｒａｉｓｅ　Ｆｕｎｄ投資事業有限責任組合                JP3   \n",
       "1          1551453                             日野市立病院                JP3   \n",
       "2          1557808  米ドル建て日系社債投資ファンド２０２０－１０（適格機関投資家専用）                JP3   \n",
       "3          1559356     ＵＳリートＥＴＦファンド２０２１－０９（適格機関投資家専用）                JP3   \n",
       "4          1560092                   ＳＭＴ　ＭＩＲＡＩｎｄｅｘ　総合                JP3   \n",
       "\n",
       "   (As is)\\nTAX_NUM Allocation  \n",
       "0     4200001038486      Ziqry  \n",
       "1     1000020132128      Ziqry  \n",
       "2     9010401137051      Ziqry  \n",
       "3     9010401137051      Ziqry  \n",
       "4     8010001114914      Ziqry  "
      ]
     },
     "execution_count": 2,
     "metadata": {},
     "output_type": "execute_result"
    }
   ],
   "source": [
    "df.head()"
   ]
  },
  {
   "cell_type": "code",
   "execution_count": 19,
   "id": "dba027b1",
   "metadata": {},
   "outputs": [
    {
     "name": "stdout",
     "output_type": "stream",
     "text": [
      "Generated SQL query:\n",
      "\n",
      "SELECT * FROM SAP.DFKKBPTAXNUM WHERE \n",
      "  PARTNER LIKE '%1558780' OR\n",
      "  PARTNER LIKE '%1551453' OR\n",
      "  PARTNER LIKE '%1557808' OR\n",
      "  PARTNER LIKE '%1559356' OR\n",
      "  PARTNER LIKE '%1560092' OR\n",
      "  PARTNER LIKE '%1560152' OR\n",
      "  PARTNER LIKE '%1560161' OR\n",
      "  PARTNER LIKE '%1559035' OR\n",
      "  PARTNER LIKE '%1551812' OR\n",
      "  PARTNER LIKE '%1558245' OR\n",
      "  PARTNER LIKE '%1560211' OR\n",
      "  PARTNER LIKE '%1558460' OR\n",
      "  PARTNER LIKE '%1557751' OR\n",
      "  PARTNER LIKE '%1558832' OR\n",
      "  PARTNER LIKE '%1560052' OR\n",
      "  PARTNER LIKE '%1557434' OR\n",
      "  PARTNER LIKE '%1559855' OR\n",
      "  PARTNER LIKE '%1553600' OR\n",
      "  PARTNER LIKE '%1558288' OR\n",
      "  PARTNER LIKE '%1557541' OR\n",
      "  PARTNER LIKE '%1558221' OR\n",
      "  PARTNER LIKE '%1560506' OR\n",
      "  PARTNER LIKE '%1557161' OR\n",
      "  PARTNER LIKE '%1557583' OR\n",
      "  PARTNER LIKE '%1558384' OR\n",
      "  PARTNER LIKE '%1559222' OR\n",
      "  PARTNER LIKE '%1559355' OR\n",
      "  PARTNER LIKE '%1560512' OR\n",
      "  PARTNER LIKE '%1559415' OR\n",
      "  PARTNER LIKE '%1559677' OR\n",
      "  PARTNER LIKE '%1559919' OR\n",
      "  PARTNER LIKE '%1560529' OR\n",
      "  PARTNER LIKE '%1551875' OR\n",
      "  PARTNER LIKE '%1557567' OR\n",
      "  PARTNER LIKE '%1558429' OR\n",
      "  PARTNER LIKE '%1558604' OR\n",
      "  PARTNER LIKE '%1559030' OR\n",
      "  PARTNER LIKE '%1559279' OR\n",
      "  PARTNER LIKE '%1559438' OR\n",
      "  PARTNER LIKE '%1560062' OR\n",
      "  PARTNER LIKE '%1560301';\n"
     ]
    }
   ],
   "source": [
    "# Generate the SQL 'LIKE' conditions\n",
    "like_conditions = \" OR\\n  \".join([f\"PARTNER LIKE '%{id}'\" for id in id_list])\n",
    "\n",
    "# Wrap it in a full SQL query\n",
    "sql_query = f\"SELECT * FROM SAP.DFKKBPTAXNUM WHERE \\n  {like_conditions};\"\n",
    "\n",
    "# Print the generated query\n",
    "print(\"Generated SQL query:\\n\")\n",
    "print(sql_query)"
   ]
  },
  {
   "cell_type": "code",
   "execution_count": null,
   "id": "34b9a312",
   "metadata": {},
   "outputs": [],
   "source": []
  }
 ],
 "metadata": {
  "kernelspec": {
   "display_name": "base",
   "language": "python",
   "name": "python3"
  },
  "language_info": {
   "codemirror_mode": {
    "name": "ipython",
    "version": 3
   },
   "file_extension": ".py",
   "mimetype": "text/x-python",
   "name": "python",
   "nbconvert_exporter": "python",
   "pygments_lexer": "ipython3",
   "version": "3.12.4"
  }
 },
 "nbformat": 4,
 "nbformat_minor": 5
}
